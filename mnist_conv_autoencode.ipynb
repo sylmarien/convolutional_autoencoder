{
 "cells": [
  {
   "cell_type": "code",
   "execution_count": 1,
   "metadata": {
    "collapsed": false
   },
   "outputs": [],
   "source": [
    "import os, sys, urllib, gzip\n",
    "from __future__ import print_function\n",
    "try:\n",
    "    import cPickle as pickle\n",
    "except:\n",
    "    import pickle\n",
    "sys.setrecursionlimit(10000)"
   ]
  },
  {
   "cell_type": "code",
   "execution_count": 2,
   "metadata": {
    "collapsed": false
   },
   "outputs": [],
   "source": [
    "import matplotlib\n",
    "matplotlib.use('Agg') # Change matplotlib backend, in case we have no X server running..\n",
    "import matplotlib.pyplot as plt\n",
    "%matplotlib inline\n",
    "import numpy as np\n",
    "from IPython.display import Image as IPImage\n",
    "from PIL import Image"
   ]
  },
  {
   "cell_type": "code",
   "execution_count": 3,
   "metadata": {
    "collapsed": false
   },
   "outputs": [
    {
     "name": "stderr",
     "output_type": "stream",
     "text": [
      "Using gpu device 0: GeForce GT 650M (CNMeM is enabled with initial size: 75.0% of memory, CuDNN 4007)\n",
      "/home/sylmarien/anaconda3/lib/python3.5/site-packages/theano/tensor/signal/downsample.py:6: UserWarning: downsample module has been moved to the theano.tensor.signal.pool module.\n",
      "  \"downsample module has been moved to the theano.tensor.signal.pool module.\")\n"
     ]
    }
   ],
   "source": [
    "from lasagne.layers import get_output, InputLayer, DenseLayer, Upscale2DLayer, ReshapeLayer\n",
    "from lasagne.nonlinearities import rectify, leaky_rectify, tanh\n",
    "from lasagne.updates import nesterov_momentum\n",
    "from lasagne.objectives import categorical_crossentropy\n",
    "from nolearn.lasagne import NeuralNet, BatchIterator, PrintLayerInfo\n",
    "import theano"
   ]
  },
  {
   "cell_type": "code",
   "execution_count": 4,
   "metadata": {
    "collapsed": false
   },
   "outputs": [
    {
     "name": "stdout",
     "output_type": "stream",
     "text": [
      "Using cuda_convnet (Faster, especially with lots of datas)\n"
     ]
    }
   ],
   "source": [
    "from lasagne.layers import Conv2DLayer as Conv2DLayerSlow\n",
    "from lasagne.layers import MaxPool2DLayer as MaxPool2DLayerSlow\n",
    "# pylearn2 version (fastest)\n",
    "from lasagne.layers.cuda_convnet import Conv2DCCLayer as Conv2DLayerFast\n",
    "from lasagne.layers.cuda_convnet import MaxPool2DCCLayer as MaxPool2DLayerFast\n",
    "print('Using cuda_convnet (Faster, especially with lots of datas)')\n",
    "\n",
    "# gemm or cuDNN (if available, will be used)\n",
    "#from lasagne.layers import Conv2DLayer as Conv2DLayerFast\n",
    "#from lasagne.layers import MaxPool2DLayer as MaxPool2DLayerFast\n",
    "#print('Using lasagne.layers (faster if with cuDNN)')\n",
    "\n",
    "# cuDNN (force its use, not recommended because it will be used if available anyway)\n",
    "#from lasagne.layers.dnn import Conv2DDNNLayer as Conv2DLayerFast\n",
    "#from lasagne.layers.dnn import MaxPool2DDNNLayer as MaxPool2DLayerFast\n",
    "#print('Using cuDNN (forced)')"
   ]
  },
  {
   "cell_type": "code",
   "execution_count": 22,
   "metadata": {
    "collapsed": false
   },
   "outputs": [],
   "source": [
    "fname = 'mnist/mnist.pkl.gz'\n",
    "if not os.path.isfile(fname):\n",
    "    try:\n",
    "        testfile = urllib.request.URLopener()\n",
    "    except:\n",
    "        testfile = urllib.URLopener()\n",
    "    testfile.retrieve(\"http://deeplearning.net/data/mnist/mnist.pkl.gz\", fname)\n",
    "f = gzip.open(fname, 'rb')\n",
    "try:\n",
    "    train_set, valid_set, test_set = pickle.load(f, encoding='latin1')\n",
    "except:\n",
    "    train_set, valid_set, test_set = pickle.load(f)\n",
    "f.close()\n",
    "X, y = train_set"
   ]
  },
  {
   "cell_type": "code",
   "execution_count": 23,
   "metadata": {
    "collapsed": false
   },
   "outputs": [
    {
     "name": "stdout",
     "output_type": "stream",
     "text": [
      "X type and shape: float32 (50000, 1, 28, 28)\n",
      "X.min(): 0.0\n",
      "X.max(): 0.996094\n"
     ]
    }
   ],
   "source": [
    "# reshape from (50000, 784) to 4D tensor (50000, 1, 28, 28)\n",
    "#X = X[0:10000]\n",
    "X = np.reshape(X, (-1, 1, 28, 28))\n",
    "print('X type and shape:', X.dtype, X.shape)\n",
    "print('X.min():', X.min())\n",
    "print('X.max():', X.max())"
   ]
  },
  {
   "cell_type": "code",
   "execution_count": 24,
   "metadata": {
    "collapsed": false
   },
   "outputs": [
    {
     "name": "stdout",
     "output_type": "stream",
     "text": [
      "X_out: float32 (50000, 784)\n"
     ]
    }
   ],
   "source": [
    "# we need our target to be 1 dimensional\n",
    "X_out = X.reshape((X.shape[0], -1))\n",
    "print('X_out:', X_out.dtype, X_out.shape)"
   ]
  },
  {
   "cell_type": "code",
   "execution_count": 25,
   "metadata": {
    "collapsed": false
   },
   "outputs": [],
   "source": [
    "conv_num_filters = 16\n",
    "filter_size = 3\n",
    "pool_size = 2\n",
    "encode_size = 16\n",
    "dense_mid_size = 128\n",
    "pad_in = 'valid'\n",
    "pad_out = 'full'\n",
    "layers = [\n",
    "    (InputLayer, {'shape': (None, X.shape[1], X.shape[2], X.shape[3])}), \n",
    "    (Conv2DLayerFast, {'num_filters': conv_num_filters, 'filter_size': filter_size, 'pad': pad_in}),\n",
    "    (Conv2DLayerFast, {'num_filters': conv_num_filters, 'filter_size': filter_size, 'pad': pad_in}),\n",
    "    (MaxPool2DLayerFast, {'pool_size': pool_size}),\n",
    "    (Conv2DLayerFast, {'num_filters': 2*conv_num_filters, 'filter_size': filter_size, 'pad': pad_in}),\n",
    "    (MaxPool2DLayerFast, {'pool_size': pool_size}),\n",
    "    (ReshapeLayer, {'shape': (([0], -1))}),\n",
    "    (DenseLayer, {'num_units': dense_mid_size}),\n",
    "    (DenseLayer, {'name': 'encode', 'num_units': encode_size}),\n",
    "    (DenseLayer, {'num_units': dense_mid_size}),\n",
    "    (DenseLayer, {'num_units': 800}),\n",
    "    (ReshapeLayer, {'shape': (([0], 2*conv_num_filters, 5, 5))}),\n",
    "    (Upscale2DLayer, {'scale_factor': pool_size}),\n",
    "    (Conv2DLayerFast, {'num_filters': conv_num_filters, 'filter_size': filter_size, 'pad': pad_out}),\n",
    "    (Upscale2DLayer, {'scale_factor': pool_size}),\n",
    "    (Conv2DLayerSlow, {'num_filters': conv_num_filters, 'filter_size': filter_size, 'pad': pad_out}),\n",
    "    (Conv2DLayerSlow, {'num_filters': 1, 'filter_size': filter_size, 'pad': pad_out}),\n",
    "    (ReshapeLayer, {'shape': (([0], -1))}),\n",
    "]"
   ]
  },
  {
   "cell_type": "code",
   "execution_count": 26,
   "metadata": {
    "collapsed": false
   },
   "outputs": [],
   "source": [
    "ae = NeuralNet(\n",
    "    layers=layers,\n",
    "    max_epochs=100,\n",
    "    \n",
    "    update=nesterov_momentum,\n",
    "    update_learning_rate=0.01,\n",
    "    update_momentum=0.975,\n",
    "    \n",
    "    regression=True,\n",
    "    verbose=1\n",
    ")\n",
    "# ae.initialize()\n",
    "# PrintLayerInfo()(ae)"
   ]
  },
  {
   "cell_type": "code",
   "execution_count": 27,
   "metadata": {
    "collapsed": false
   },
   "outputs": [
    {
     "name": "stdout",
     "output_type": "stream",
     "text": [
      "# Neural Network with 224177 learnable parameters\n",
      "\n",
      "## Layer information\n",
      "\n",
      "  #  name          size\n",
      "---  ------------  --------\n",
      "  0  input0        1x28x28\n",
      "  1  conv2dcc1     16x26x26\n",
      "  2  conv2dcc2     16x24x24\n",
      "  3  maxpool2dcc3  16x12x12\n",
      "  4  conv2dcc4     32x10x10\n",
      "  5  maxpool2dcc5  32x5x5\n",
      "  6  reshape6      800\n",
      "  7  dense7        128\n",
      "  8  encode        16\n",
      "  9  dense9        128\n",
      " 10  dense10       800\n",
      " 11  reshape11     32x5x5\n",
      " 12  upscale2d12   32x10x10\n",
      " 13  conv2dcc13    16x12x12\n",
      " 14  upscale2d14   16x24x24\n",
      " 15  conv2d15      16x26x26\n",
      " 16  conv2d16      1x28x28\n",
      " 17  reshape17     784\n",
      "\n",
      "  epoch    train loss    valid loss    train/val  dur\n",
      "-------  ------------  ------------  -----------  ------\n",
      "      1       \u001b[36m0.06696\u001b[0m       \u001b[32m0.05721\u001b[0m      1.17044  46.48s\n",
      "      2       \u001b[36m0.04926\u001b[0m       \u001b[32m0.04131\u001b[0m      1.19253  46.29s\n",
      "      3       \u001b[36m0.03710\u001b[0m       \u001b[32m0.03331\u001b[0m      1.11358  46.22s\n",
      "      4       \u001b[36m0.03140\u001b[0m       \u001b[32m0.02935\u001b[0m      1.07011  46.28s\n",
      "      5       \u001b[36m0.02838\u001b[0m       \u001b[32m0.02703\u001b[0m      1.04995  46.88s\n",
      "      6       \u001b[36m0.02655\u001b[0m       \u001b[32m0.02557\u001b[0m      1.03817  46.56s\n",
      "      7       \u001b[36m0.02530\u001b[0m       \u001b[32m0.02454\u001b[0m      1.03099  47.19s\n",
      "      8       \u001b[36m0.02436\u001b[0m       \u001b[32m0.02371\u001b[0m      1.02734  46.58s\n",
      "      9       \u001b[36m0.02358\u001b[0m       \u001b[32m0.02302\u001b[0m      1.02421  46.24s\n",
      "     10       \u001b[36m0.02291\u001b[0m       \u001b[32m0.02241\u001b[0m      1.02240  46.80s\n",
      "     11       \u001b[36m0.02234\u001b[0m       \u001b[32m0.02189\u001b[0m      1.02079  46.76s\n",
      "     12       \u001b[36m0.02186\u001b[0m       \u001b[32m0.02146\u001b[0m      1.01822  47.15s\n",
      "     13       \u001b[36m0.02143\u001b[0m       \u001b[32m0.02108\u001b[0m      1.01644  46.54s\n",
      "     14       \u001b[36m0.02105\u001b[0m       \u001b[32m0.02074\u001b[0m      1.01482  47.28s\n",
      "     15       \u001b[36m0.02069\u001b[0m       \u001b[32m0.02039\u001b[0m      1.01472  47.26s\n",
      "     16       \u001b[36m0.02031\u001b[0m       \u001b[32m0.02000\u001b[0m      1.01548  47.68s\n",
      "     17       \u001b[36m0.01989\u001b[0m       \u001b[32m0.01956\u001b[0m      1.01672  47.72s\n",
      "     18       \u001b[36m0.01946\u001b[0m       \u001b[32m0.01917\u001b[0m      1.01537  47.74s\n",
      "     19       \u001b[36m0.01911\u001b[0m       \u001b[32m0.01883\u001b[0m      1.01485  47.35s\n",
      "     20       \u001b[36m0.01881\u001b[0m       \u001b[32m0.01854\u001b[0m      1.01495  46.12s\n",
      "     21       \u001b[36m0.01855\u001b[0m       \u001b[32m0.01830\u001b[0m      1.01377  46.75s\n",
      "     22       \u001b[36m0.01832\u001b[0m       \u001b[32m0.01808\u001b[0m      1.01291  46.87s\n",
      "     23       \u001b[36m0.01810\u001b[0m       \u001b[32m0.01788\u001b[0m      1.01235  46.84s\n",
      "     24       \u001b[36m0.01790\u001b[0m       \u001b[32m0.01768\u001b[0m      1.01212  46.89s\n",
      "     25       \u001b[36m0.01771\u001b[0m       \u001b[32m0.01751\u001b[0m      1.01175  46.94s\n",
      "     26       \u001b[36m0.01754\u001b[0m       \u001b[32m0.01734\u001b[0m      1.01146  47.02s\n",
      "     27       \u001b[36m0.01738\u001b[0m       \u001b[32m0.01719\u001b[0m      1.01096  48.19s\n",
      "     28       \u001b[36m0.01723\u001b[0m       \u001b[32m0.01704\u001b[0m      1.01073  47.77s\n",
      "     29       \u001b[36m0.01708\u001b[0m       \u001b[32m0.01690\u001b[0m      1.01058  47.88s\n",
      "     30       \u001b[36m0.01694\u001b[0m       \u001b[32m0.01677\u001b[0m      1.01067  47.27s\n",
      "     31       \u001b[36m0.01682\u001b[0m       \u001b[32m0.01664\u001b[0m      1.01050  47.79s\n",
      "     32       \u001b[36m0.01669\u001b[0m       \u001b[32m0.01652\u001b[0m      1.01062  47.41s\n",
      "     33       \u001b[36m0.01658\u001b[0m       \u001b[32m0.01641\u001b[0m      1.01027  46.92s\n",
      "     34       \u001b[36m0.01647\u001b[0m       \u001b[32m0.01630\u001b[0m      1.01008  46.29s\n",
      "     35       \u001b[36m0.01636\u001b[0m       \u001b[32m0.01620\u001b[0m      1.00982  46.76s\n",
      "     36       \u001b[36m0.01625\u001b[0m       \u001b[32m0.01610\u001b[0m      1.00914  46.81s\n",
      "     37       \u001b[36m0.01615\u001b[0m       \u001b[32m0.01601\u001b[0m      1.00881  46.19s\n",
      "     38       \u001b[36m0.01605\u001b[0m       \u001b[32m0.01592\u001b[0m      1.00836  46.46s\n",
      "     39       \u001b[36m0.01596\u001b[0m       \u001b[32m0.01583\u001b[0m      1.00797  46.07s\n",
      "     40       \u001b[36m0.01587\u001b[0m       \u001b[32m0.01575\u001b[0m      1.00753  47.34s\n",
      "     41       \u001b[36m0.01578\u001b[0m       \u001b[32m0.01567\u001b[0m      1.00661  46.81s\n",
      "     42       \u001b[36m0.01569\u001b[0m       \u001b[32m0.01559\u001b[0m      1.00631  47.16s\n",
      "     43       \u001b[36m0.01560\u001b[0m       \u001b[32m0.01551\u001b[0m      1.00578  46.29s\n",
      "     44       \u001b[36m0.01552\u001b[0m       \u001b[32m0.01543\u001b[0m      1.00580  46.72s\n",
      "     45       \u001b[36m0.01544\u001b[0m       \u001b[32m0.01536\u001b[0m      1.00558  47.64s\n",
      "     46       \u001b[36m0.01537\u001b[0m       \u001b[32m0.01528\u001b[0m      1.00534  47.59s\n",
      "     47       \u001b[36m0.01529\u001b[0m       \u001b[32m0.01521\u001b[0m      1.00517  48.06s\n",
      "     48       \u001b[36m0.01522\u001b[0m       \u001b[32m0.01515\u001b[0m      1.00450  48.05s\n",
      "     49       \u001b[36m0.01515\u001b[0m       \u001b[32m0.01508\u001b[0m      1.00451  48.02s\n",
      "     50       \u001b[36m0.01508\u001b[0m       \u001b[32m0.01502\u001b[0m      1.00367  48.05s\n",
      "     51       \u001b[36m0.01501\u001b[0m       \u001b[32m0.01496\u001b[0m      1.00330  48.05s\n",
      "     52       \u001b[36m0.01494\u001b[0m       \u001b[32m0.01490\u001b[0m      1.00308  50.49s\n",
      "     53       \u001b[36m0.01488\u001b[0m       \u001b[32m0.01484\u001b[0m      1.00251  49.38s\n",
      "     54       \u001b[36m0.01482\u001b[0m       \u001b[32m0.01479\u001b[0m      1.00202  49.37s\n",
      "     55       \u001b[36m0.01476\u001b[0m       \u001b[32m0.01473\u001b[0m      1.00157  49.35s\n",
      "     56       \u001b[36m0.01470\u001b[0m       \u001b[32m0.01468\u001b[0m      1.00102  49.34s\n",
      "     57       \u001b[36m0.01464\u001b[0m       \u001b[32m0.01463\u001b[0m      1.00099  49.41s\n",
      "     58       \u001b[36m0.01458\u001b[0m       \u001b[32m0.01457\u001b[0m      1.00070  49.39s\n",
      "     59       \u001b[36m0.01453\u001b[0m       \u001b[32m0.01452\u001b[0m      1.00054  49.39s\n",
      "     60       \u001b[36m0.01447\u001b[0m       \u001b[32m0.01447\u001b[0m      1.00059  49.39s\n",
      "     61       \u001b[36m0.01442\u001b[0m       \u001b[32m0.01442\u001b[0m      0.99998  49.34s\n",
      "     62       \u001b[36m0.01437\u001b[0m       \u001b[32m0.01438\u001b[0m      0.99959  49.32s\n",
      "     63       \u001b[36m0.01432\u001b[0m       \u001b[32m0.01433\u001b[0m      0.99934  49.41s\n",
      "     64       \u001b[36m0.01427\u001b[0m       \u001b[32m0.01428\u001b[0m      0.99934  49.41s\n",
      "     65       \u001b[36m0.01422\u001b[0m       \u001b[32m0.01424\u001b[0m      0.99890  49.29s\n",
      "     66       \u001b[36m0.01417\u001b[0m       \u001b[32m0.01420\u001b[0m      0.99843  49.41s\n",
      "     67       \u001b[36m0.01413\u001b[0m       \u001b[32m0.01415\u001b[0m      0.99827  49.39s\n",
      "     68       \u001b[36m0.01408\u001b[0m       \u001b[32m0.01411\u001b[0m      0.99824  49.33s\n",
      "     69       \u001b[36m0.01404\u001b[0m       \u001b[32m0.01406\u001b[0m      0.99803  49.40s\n",
      "     70       \u001b[36m0.01399\u001b[0m       \u001b[32m0.01403\u001b[0m      0.99759  49.40s\n",
      "     71       \u001b[36m0.01395\u001b[0m       \u001b[32m0.01398\u001b[0m      0.99766  49.34s\n",
      "     72       \u001b[36m0.01391\u001b[0m       \u001b[32m0.01395\u001b[0m      0.99726  49.36s\n",
      "     73       \u001b[36m0.01387\u001b[0m       \u001b[32m0.01391\u001b[0m      0.99684  49.39s\n",
      "     74       \u001b[36m0.01383\u001b[0m       \u001b[32m0.01388\u001b[0m      0.99652  49.39s\n",
      "     75       \u001b[36m0.01379\u001b[0m       \u001b[32m0.01384\u001b[0m      0.99653  49.44s\n",
      "     76       \u001b[36m0.01375\u001b[0m       \u001b[32m0.01380\u001b[0m      0.99628  49.38s\n",
      "     77       \u001b[36m0.01371\u001b[0m       \u001b[32m0.01377\u001b[0m      0.99573  49.38s\n",
      "     78       \u001b[36m0.01367\u001b[0m       \u001b[32m0.01374\u001b[0m      0.99544  49.36s\n",
      "     79       \u001b[36m0.01364\u001b[0m       \u001b[32m0.01370\u001b[0m      0.99521  49.41s\n",
      "     80       \u001b[36m0.01360\u001b[0m       \u001b[32m0.01367\u001b[0m      0.99486  49.39s\n",
      "     81       \u001b[36m0.01356\u001b[0m       \u001b[32m0.01364\u001b[0m      0.99442  49.44s\n",
      "     82       \u001b[36m0.01353\u001b[0m       \u001b[32m0.01361\u001b[0m      0.99422  49.39s\n",
      "     83       \u001b[36m0.01350\u001b[0m       \u001b[32m0.01357\u001b[0m      0.99441  49.36s\n",
      "     84       \u001b[36m0.01346\u001b[0m       \u001b[32m0.01354\u001b[0m      0.99421  49.39s\n",
      "     85       \u001b[36m0.01343\u001b[0m       \u001b[32m0.01352\u001b[0m      0.99361  49.34s\n",
      "     86       \u001b[36m0.01340\u001b[0m       \u001b[32m0.01348\u001b[0m      0.99347  49.46s\n",
      "     87       \u001b[36m0.01337\u001b[0m       \u001b[32m0.01346\u001b[0m      0.99332  49.40s\n",
      "     88       \u001b[36m0.01333\u001b[0m       \u001b[32m0.01343\u001b[0m      0.99320  49.38s\n",
      "     89       \u001b[36m0.01330\u001b[0m       \u001b[32m0.01340\u001b[0m      0.99280  49.37s\n",
      "     90       \u001b[36m0.01327\u001b[0m       \u001b[32m0.01337\u001b[0m      0.99272  49.37s\n",
      "     91       \u001b[36m0.01324\u001b[0m       \u001b[32m0.01334\u001b[0m      0.99249  49.41s\n",
      "     92       \u001b[36m0.01321\u001b[0m       \u001b[32m0.01332\u001b[0m      0.99230  49.42s\n",
      "     93       \u001b[36m0.01318\u001b[0m       \u001b[32m0.01329\u001b[0m      0.99211  49.39s\n",
      "     94       \u001b[36m0.01316\u001b[0m       \u001b[32m0.01326\u001b[0m      0.99186  49.40s\n",
      "     95       \u001b[36m0.01313\u001b[0m       \u001b[32m0.01324\u001b[0m      0.99171  49.30s\n",
      "     96       \u001b[36m0.01310\u001b[0m       \u001b[32m0.01321\u001b[0m      0.99147  49.38s\n",
      "     97       \u001b[36m0.01307\u001b[0m       \u001b[32m0.01319\u001b[0m      0.99131  49.32s\n",
      "     98       \u001b[36m0.01305\u001b[0m       \u001b[32m0.01317\u001b[0m      0.99087  49.29s\n",
      "     99       \u001b[36m0.01302\u001b[0m       \u001b[32m0.01314\u001b[0m      0.99057  49.27s\n",
      "    100       \u001b[36m0.01299\u001b[0m       \u001b[32m0.01312\u001b[0m      0.99043  49.25s\n"
     ]
    },
    {
     "data": {
      "text/plain": [
       "NeuralNet(X_tensor_type=None,\n",
       "     batch_iterator_test=<nolearn.lasagne.base.BatchIterator object at 0x7f7c3afeaf98>,\n",
       "     batch_iterator_train=<nolearn.lasagne.base.BatchIterator object at 0x7f7c3afeaeb8>,\n",
       "     check_input=True, custom_scores=None,\n",
       "     layers=[(<class 'lasagne.layers.input.InputLayer'>, {'shape': (None, 1, 28, 28)}), (<class 'lasagne.layers.cuda_convnet.Conv2DCCLayer'>, {'num_filters': 16, 'pad': 'valid', 'filter_size': 3}), (<class 'lasagne.layers.cuda_convnet.Conv2DCCLayer'>, {'num_filters': 16, 'pad': 'valid', 'filter_size': 3}...d': 'full', 'filter_size': 3}), (<class 'lasagne.layers.shape.ReshapeLayer'>, {'shape': ([0], -1)})],\n",
       "     loss=None, max_epochs=100, more_params={},\n",
       "     objective=<function objective at 0x7f7c3917f8c8>,\n",
       "     objective_loss_function=<function squared_error at 0x7f7c3afbf378>,\n",
       "     on_batch_finished=[],\n",
       "     on_epoch_finished=[<nolearn.lasagne.handlers.PrintLog object at 0x7f7c017ca8d0>],\n",
       "     on_training_finished=[],\n",
       "     on_training_started=[<nolearn.lasagne.handlers.PrintLayerInfo object at 0x7f7c017cacc0>],\n",
       "     regression=True,\n",
       "     train_split=<nolearn.lasagne.base.TrainSplit object at 0x7f7c3af750b8>,\n",
       "     update=<function nesterov_momentum at 0x7f7c3afbfd08>,\n",
       "     update_learning_rate=0.01, update_momentum=0.975,\n",
       "     use_label_encoder=False, verbose=1,\n",
       "     y_tensor_type=TensorType(float32, matrix))"
      ]
     },
     "execution_count": 27,
     "metadata": {},
     "output_type": "execute_result"
    }
   ],
   "source": [
    "ae.fit(X, X_out)"
   ]
  },
  {
   "cell_type": "code",
   "execution_count": 28,
   "metadata": {
    "collapsed": false
   },
   "outputs": [
    {
     "data": {
      "text/plain": [
       "<module 'matplotlib.pyplot' from '/home/sylmarien/anaconda3/lib/python3.5/site-packages/matplotlib/pyplot.py'>"
      ]
     },
     "execution_count": 28,
     "metadata": {},
     "output_type": "execute_result"
    },
    {
     "data": {
      "image/png": "[encoded data removed]",
      "text/plain": [
       "<matplotlib.figure.Figure at 0x7f7c2c2a7160>"
      ]
     },
     "metadata": {},
     "output_type": "display_data"
    }
   ],
   "source": [
    "from nolearn.lasagne.visualize import plot_loss\n",
    "plot_loss(ae)"
   ]
  },
  {
   "cell_type": "code",
   "execution_count": 29,
   "metadata": {
    "collapsed": false
   },
   "outputs": [],
   "source": [
    "# ae.save_params_to('mnist/conv_ae.np')\n",
    "pickle.dump(ae, open('mnist/conv_ae.pkl','wb'))\n",
    "# ae = pickle.load(open('mnist/conv_ae.pkl','rb'))\n",
    "# ae.layers"
   ]
  },
  {
   "cell_type": "code",
   "execution_count": 30,
   "metadata": {
    "collapsed": false
   },
   "outputs": [
    {
     "name": "stdout",
     "output_type": "stream",
     "text": [
      "(50000, 28, 28) (50000, 1, 28, 28)\n"
     ]
    }
   ],
   "source": [
    "X_pred = ae.predict(X).reshape(-1, 28, 28)\n",
    "X_pred = np.rint(256. * X_pred).astype(int)\n",
    "X_pred = np.clip(X_pred, a_min = 0, a_max = 255)\n",
    "X_pred = X_pred.astype('uint8')\n",
    "print(X_pred.shape , X.shape)"
   ]
  },
  {
   "cell_type": "code",
   "execution_count": 31,
   "metadata": {
    "collapsed": false
   },
   "outputs": [],
   "source": [
    "!mkdir -p data\n",
    "!mkdir -p montage"
   ]
  },
  {
   "cell_type": "code",
   "execution_count": 32,
   "metadata": {
    "collapsed": false
   },
   "outputs": [
    {
     "name": "stdout",
     "output_type": "stream",
     "text": [
      "2\n"
     ]
    },
    {
     "data": {
      "image/png": "[encoded data removed]",
      "text/plain": [
       "<IPython.core.display.Image object>"
      ]
     },
     "execution_count": 32,
     "metadata": {},
     "output_type": "execute_result"
    }
   ],
   "source": [
    "###  show random inputs / outputs side by side\n",
    "\n",
    "def get_picture_array(X, rescale=4):\n",
    "    array = X.reshape(28,28)\n",
    "    array = np.clip(array, a_min = 0, a_max = 255)\n",
    "    return  array.repeat(rescale, axis = 0).repeat(rescale, axis = 1).astype(np.uint8())\n",
    "\n",
    "def compare_images(index):\n",
    "    print(index)\n",
    "    original_image = Image.fromarray(get_picture_array(255 * X[index]))\n",
    "    new_size = (original_image.size[0] * 2, original_image.size[1])\n",
    "    new_im = Image.new('L', new_size)\n",
    "    new_im.paste(original_image, (0,0))\n",
    "    rec_image = Image.fromarray(get_picture_array(X_pred[index]))\n",
    "    new_im.paste(rec_image, (original_image.size[0],0))\n",
    "    new_im.save('data/test.png', format=\"PNG\")\n",
    "    return IPImage('data/test.png')\n",
    "\n",
    "compare_images(2)\n",
    "# compare_images(np.random.randint(50000))"
   ]
  },
  {
   "cell_type": "code",
   "execution_count": 33,
   "metadata": {
    "collapsed": false
   },
   "outputs": [],
   "source": [
    "## we find the encode layer from our ae, and use it to define an encoding function\n",
    "\n",
    "def get_layer_by_name(net, name):\n",
    "    for i, layer in enumerate(net.get_all_layers()):\n",
    "        if layer.name == name:\n",
    "            return layer, i\n",
    "    return None, None\n",
    "encode_layer, encode_layer_index = get_layer_by_name(ae, 'encode')\n",
    "\n",
    "def encode_input(encode_layer, X):\n",
    "    return get_output(encode_layer, inputs=X) #.eval() # Cause wrong type error\n",
    "\n",
    "#X_encoded = encode_input(encode_layer, X)\n",
    "input_layer, input_layer_index = get_layer_by_name(ae, 'input0')\n",
    "f = theano.function([input_layer.input_var], get_output(encode_layer))\n",
    "X_encoded = f(X[0:10000])"
   ]
  },
  {
   "cell_type": "code",
   "execution_count": 34,
   "metadata": {
    "collapsed": false
   },
   "outputs": [],
   "source": [
    "next_layer = ae.get_all_layers()[encode_layer_index + 1]\n",
    "final_layer = ae.get_all_layers()[-1]\n",
    "new_layer = InputLayer(shape=(None, encode_layer.num_units))\n",
    "\n",
    "# N.B after we do this, we won't be able to use the original autoencoder , as the layers are broken up\n",
    "next_layer.input_layer = new_layer"
   ]
  },
  {
   "cell_type": "code",
   "execution_count": 35,
   "metadata": {
    "collapsed": false
   },
   "outputs": [
    {
     "name": "stdout",
     "output_type": "stream",
     "text": [
      "[  1 784]\n"
     ]
    },
    {
     "data": {
      "image/png": "[encoded data removed]",
      "text/plain": [
       "<IPython.core.display.Image object>"
      ]
     },
     "execution_count": 35,
     "metadata": {},
     "output_type": "execute_result"
    }
   ],
   "source": [
    "def get_output_from_nn(last_layer, X):\n",
    "    return get_output(last_layer,X) #.eval() # Cause wrong type error\n",
    "\n",
    "def decode_encoded_input(X):\n",
    "    return get_output_from_nn(final_layer, X)\n",
    "\n",
    "X_decoded = 256 * decode_encoded_input(X_encoded[2])\n",
    "\n",
    "X_decoded = X_decoded.eval()\n",
    "X_decoded = theano.tensor.iround(X_decoded)\n",
    "X_decoded = theano.tensor.clip(X_decoded, 0, 255)\n",
    "X_decoded  = X_decoded.astype('uint8')\n",
    "print(X_decoded.shape.eval())\n",
    "\n",
    "pic_array = get_picture_array(X_decoded.eval())\n",
    "image = Image.fromarray(pic_array)\n",
    "image.save('data/test.png', format=\"PNG\")  \n",
    "IPImage('data/test.png')"
   ]
  },
  {
   "cell_type": "code",
   "execution_count": 36,
   "metadata": {
    "collapsed": false
   },
   "outputs": [],
   "source": [
    "enc_std = X_encoded.std(axis=0)\n",
    "enc_mean = X_encoded.mean(axis=0)\n",
    "enc_min = X_encoded.min(axis=0)\n",
    "enc_max = X_encoded.max(axis=0)\n",
    "m = X_encoded.shape[1]"
   ]
  },
  {
   "cell_type": "code",
   "execution_count": 37,
   "metadata": {
    "collapsed": false
   },
   "outputs": [],
   "source": [
    "n = 256\n",
    "generated = np.random.normal(0, 1, (n, m)) * enc_std + enc_mean\n",
    "generated = generated.astype(np.float32).clip(enc_min, enc_max)\n",
    "X_decoded = decode_encoded_input(generated) * 256.\n",
    "X_decoded = theano.tensor.iround(X_decoded )\n",
    "X_decoded = theano.tensor.clip(X_decoded, 0, 255)\n",
    "X_decoded  = X_decoded.astype('uint8')\n",
    "!mkdir -p montage\n",
    "for i in range(n):\n",
    "    pic_array = get_picture_array(X_decoded[i].eval(), rescale=1)\n",
    "    image = Image.fromarray(pic_array)\n",
    "    image.save('montage/{0:03d}.png'.format(i), format='png')"
   ]
  },
  {
   "cell_type": "code",
   "execution_count": 38,
   "metadata": {
    "collapsed": false
   },
   "outputs": [
    {
     "data": {
      "image/png": "[encoded data removed]",
      "text/plain": [
       "<IPython.core.display.Image object>"
      ]
     },
     "execution_count": 38,
     "metadata": {},
     "output_type": "execute_result"
    }
   ],
   "source": [
    "!montage -mode concatenate -tile 16x montage/*.png montage.png\n",
    "IPImage('montage.png')"
   ]
  },
  {
   "cell_type": "code",
   "execution_count": null,
   "metadata": {
    "collapsed": true
   },
   "outputs": [],
   "source": []
  }
 ],
 "metadata": {
  "kernelspec": {
   "display_name": "Python 3",
   "language": "python",
   "name": "python3"
  },
  "language_info": {
   "codemirror_mode": {
    "name": "ipython",
    "version": 3
   },
   "file_extension": ".py",
   "mimetype": "text/x-python",
   "name": "python",
   "nbconvert_exporter": "python",
   "pygments_lexer": "ipython3",
   "version": "3.5.1"
  }
 },
 "nbformat": 4,
 "nbformat_minor": 0
}
