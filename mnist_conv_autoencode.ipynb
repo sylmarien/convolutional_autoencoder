{
 "cells": [
  {
   "cell_type": "code",
   "execution_count": 1,
   "metadata": {
    "collapsed": false
   },
   "outputs": [],
   "source": [
    "import os, sys, urllib, gzip\n",
    "from __future__ import print_function\n",
    "try:\n",
    "    import cPickle as pickle\n",
    "except:\n",
    "    import pickle\n",
    "sys.setrecursionlimit(10000)"
   ]
  },
  {
   "cell_type": "code",
   "execution_count": 2,
   "metadata": {
    "collapsed": false
   },
   "outputs": [],
   "source": [
    "import matplotlib\n",
    "matplotlib.use('Agg') # Change matplotlib backend, in case we have no X server running..\n",
    "import matplotlib.pyplot as plt\n",
    "%matplotlib inline\n",
    "import numpy as np\n",
    "from IPython.display import Image as IPImage\n",
    "from PIL import Image"
   ]
  },
  {
   "cell_type": "code",
   "execution_count": 3,
   "metadata": {
    "collapsed": false
   },
   "outputs": [
    {
     "name": "stderr",
     "output_type": "stream",
     "text": [
      "Using gpu device 0: GeForce GT 650M (CNMeM is enabled with initial size: 75.0% of memory, CuDNN 4007)\n",
      "/home/sylmarien/anaconda3/lib/python3.5/site-packages/theano/tensor/signal/downsample.py:6: UserWarning: downsample module has been moved to the theano.tensor.signal.pool module.\n",
      "  \"downsample module has been moved to the theano.tensor.signal.pool module.\")\n"
     ]
    }
   ],
   "source": [
    "from lasagne.layers import get_output, InputLayer, DenseLayer, Upscale2DLayer, ReshapeLayer\n",
    "from lasagne.nonlinearities import rectify, leaky_rectify, tanh\n",
    "from lasagne.updates import nesterov_momentum\n",
    "from lasagne.objectives import categorical_crossentropy\n",
    "from nolearn.lasagne import NeuralNet, BatchIterator, PrintLayerInfo\n",
    "import theano"
   ]
  },
  {
   "cell_type": "code",
   "execution_count": 4,
   "metadata": {
    "collapsed": false
   },
   "outputs": [
    {
     "name": "stdout",
     "output_type": "stream",
     "text": [
      "Using cuda_convnet (Faster, especially with lots of datas)\n"
     ]
    }
   ],
   "source": [
    "from lasagne.layers import Conv2DLayer as Conv2DLayerSlow\n",
    "from lasagne.layers import MaxPool2DLayer as MaxPool2DLayerSlow\n",
    "# pylearn2 version (fastest)\n",
    "from lasagne.layers.cuda_convnet import Conv2DCCLayer as Conv2DLayerFast\n",
    "from lasagne.layers.cuda_convnet import MaxPool2DCCLayer as MaxPool2DLayerFast\n",
    "print('Using cuda_convnet (Faster, especially with lots of datas)')\n",
    "\n",
    "# gemm or cuDNN (if available, will be used)\n",
    "#from lasagne.layers import Conv2DLayer as Conv2DLayerFast\n",
    "#from lasagne.layers import MaxPool2DLayer as MaxPool2DLayerFast\n",
    "#print('Using lasagne.layers (faster if with cuDNN)')\n",
    "\n",
    "# cuDNN (force its use, not recommended because it will be used if available anyway)\n",
    "#from lasagne.layers.dnn import Conv2DDNNLayer as Conv2DLayerFast\n",
    "#from lasagne.layers.dnn import MaxPool2DDNNLayer as MaxPool2DLayerFast\n",
    "#print('Using cuDNN (forced)')"
   ]
  },
  {
   "cell_type": "code",
   "execution_count": 22,
   "metadata": {
    "collapsed": false
   },
   "outputs": [],
   "source": [
    "fname = 'mnist/mnist.pkl.gz'\n",
    "if not os.path.isfile(fname):\n",
    "    try:\n",
    "        testfile = urllib.request.URLopener()\n",
    "    except:\n",
    "        testfile = urllib.URLopener()\n",
    "    testfile.retrieve(\"http://deeplearning.net/data/mnist/mnist.pkl.gz\", fname)\n",
    "f = gzip.open(fname, 'rb')\n",
    "try:\n",
    "    train_set, valid_set, test_set = pickle.load(f, encoding='latin1')\n",
    "except:\n",
    "    train_set, valid_set, test_set = pickle.load(f)\n",
    "f.close()\n",
    "X, y = train_set"
   ]
  },
  {
   "cell_type": "code",
   "execution_count": 23,
   "metadata": {
    "collapsed": false
   },
   "outputs": [
    {
     "name": "stdout",
     "output_type": "stream",
     "text": [
      "X type and shape: float32 (50000, 1, 28, 28)\n",
      "X.min(): 0.0\n",
      "X.max(): 0.996094\n"
     ]
    }
   ],
   "source": [
    "# reshape from (50000, 784) to 4D tensor (50000, 1, 28, 28)\n",
    "#X = X[0:10000]\n",
    "X = np.reshape(X, (-1, 1, 28, 28))\n",
    "print('X type and shape:', X.dtype, X.shape)\n",
    "print('X.min():', X.min())\n",
    "print('X.max():', X.max())"
   ]
  },
  {
   "cell_type": "code",
   "execution_count": 24,
   "metadata": {
    "collapsed": false
   },
   "outputs": [
    {
     "name": "stdout",
     "output_type": "stream",
     "text": [
      "X_out: float32 (50000, 784)\n"
     ]
    }
   ],
   "source": [
    "# we need our target to be 1 dimensional\n",
    "X_out = X.reshape((X.shape[0], -1))\n",
    "print('X_out:', X_out.dtype, X_out.shape)"
   ]
  },
  {
   "cell_type": "code",
   "execution_count": 25,
   "metadata": {
    "collapsed": false
   },
   "outputs": [],
   "source": [
    "conv_num_filters = 16\n",
    "filter_size = 3\n",
    "pool_size = 2\n",
    "encode_size = 16\n",
    "dense_mid_size = 128\n",
    "pad_in = 'valid'\n",
    "pad_out = 'full'\n",
    "layers = [\n",
    "    (InputLayer, {'shape': (None, X.shape[1], X.shape[2], X.shape[3])}), \n",
    "    (Conv2DLayerFast, {'num_filters': conv_num_filters, 'filter_size': filter_size, 'pad': pad_in}),\n",
    "    (Conv2DLayerFast, {'num_filters': conv_num_filters, 'filter_size': filter_size, 'pad': pad_in}),\n",
    "    (MaxPool2DLayerFast, {'pool_size': pool_size}),\n",
    "    (Conv2DLayerFast, {'num_filters': 2*conv_num_filters, 'filter_size': filter_size, 'pad': pad_in}),\n",
    "    (MaxPool2DLayerFast, {'pool_size': pool_size}),\n",
    "    (ReshapeLayer, {'shape': (([0], -1))}),\n",
    "    (DenseLayer, {'num_units': dense_mid_size}),\n",
    "    (DenseLayer, {'name': 'encode', 'num_units': encode_size}),\n",
    "    (DenseLayer, {'num_units': dense_mid_size}),\n",
    "    (DenseLayer, {'num_units': 800}),\n",
    "    (ReshapeLayer, {'shape': (([0], 2*conv_num_filters, 5, 5))}),\n",
    "    (Upscale2DLayer, {'scale_factor': pool_size}),\n",
    "    (Conv2DLayerFast, {'num_filters': conv_num_filters, 'filter_size': filter_size, 'pad': pad_out}),\n",
    "    (Upscale2DLayer, {'scale_factor': pool_size}),\n",
    "    (Conv2DLayerSlow, {'num_filters': conv_num_filters, 'filter_size': filter_size, 'pad': pad_out}),\n",
    "    (Conv2DLayerSlow, {'num_filters': 1, 'filter_size': filter_size, 'pad': pad_out}),\n",
    "    (ReshapeLayer, {'shape': (([0], -1))}),\n",
    "]"
   ]
  },
  {
   "cell_type": "code",
   "execution_count": 26,
   "metadata": {
    "collapsed": false
   },
   "outputs": [],
   "source": [
    "ae = NeuralNet(\n",
    "    layers=layers,\n",
    "    max_epochs=100,\n",
    "    \n",
    "    update=nesterov_momentum,\n",
    "    update_learning_rate=0.01,\n",
    "    update_momentum=0.975,\n",
    "    \n",
    "    regression=True,\n",
    "    verbose=1\n",
    ")\n",
    "# ae.initialize()\n",
    "# PrintLayerInfo()(ae)"
   ]
  },
  {
   "cell_type": "code",
   "execution_count": null,
   "metadata": {
    "collapsed": false
   },
   "outputs": [
    {
     "name": "stdout",
     "output_type": "stream",
     "text": [
      "# Neural Network with 224177 learnable parameters\n",
      "\n",
      "## Layer information\n",
      "\n",
      "  #  name          size\n",
      "---  ------------  --------\n",
      "  0  input0        1x28x28\n",
      "  1  conv2dcc1     16x26x26\n",
      "  2  conv2dcc2     16x24x24\n",
      "  3  maxpool2dcc3  16x12x12\n",
      "  4  conv2dcc4     32x10x10\n",
      "  5  maxpool2dcc5  32x5x5\n",
      "  6  reshape6      800\n",
      "  7  dense7        128\n",
      "  8  encode        16\n",
      "  9  dense9        128\n",
      " 10  dense10       800\n",
      " 11  reshape11     32x5x5\n",
      " 12  upscale2d12   32x10x10\n",
      " 13  conv2dcc13    16x12x12\n",
      " 14  upscale2d14   16x24x24\n",
      " 15  conv2d15      16x26x26\n",
      " 16  conv2d16      1x28x28\n",
      " 17  reshape17     784\n",
      "\n",
      "  epoch    train loss    valid loss    train/val  dur\n",
      "-------  ------------  ------------  -----------  ------\n",
      "      1       \u001b[36m0.06696\u001b[0m       \u001b[32m0.05721\u001b[0m      1.17044  46.48s\n",
      "      2       \u001b[36m0.04926\u001b[0m       \u001b[32m0.04131\u001b[0m      1.19253  46.29s\n"
     ]
    }
   ],
   "source": [
    "ae.fit(X, X_out)"
   ]
  },
  {
   "cell_type": "code",
   "execution_count": 11,
   "metadata": {
    "collapsed": false
   },
   "outputs": [
    {
     "data": {
      "text/plain": [
       "<module 'matplotlib.pyplot' from '/home/sylmarien/anaconda3/lib/python3.5/site-packages/matplotlib/pyplot.py'>"
      ]
     },
     "execution_count": 11,
     "metadata": {},
     "output_type": "execute_result"
    },
    {
     "data": {
      "image/png": "[encoded data removed]",
      "text/plain": [
       "<matplotlib.figure.Figure at 0x7f7c1175acc0>"
      ]
     },
     "metadata": {},
     "output_type": "display_data"
    }
   ],
   "source": [
    "from nolearn.lasagne.visualize import plot_loss\n",
    "plot_loss(ae)"
   ]
  },
  {
   "cell_type": "code",
   "execution_count": 12,
   "metadata": {
    "collapsed": false
   },
   "outputs": [],
   "source": [
    "# ae.save_params_to('mnist/conv_ae.np')\n",
    "pickle.dump(ae, open('mnist/conv_ae.pkl','wb'))\n",
    "# ae = pickle.load(open('mnist/conv_ae.pkl','rb'))\n",
    "# ae.layers"
   ]
  },
  {
   "cell_type": "code",
   "execution_count": 13,
   "metadata": {
    "collapsed": false
   },
   "outputs": [
    {
     "name": "stdout",
     "output_type": "stream",
     "text": [
      "(50000, 28, 28) (50000, 1, 28, 28)\n"
     ]
    }
   ],
   "source": [
    "X_pred = ae.predict(X).reshape(-1, 28, 28)\n",
    "X_pred = np.rint(256. * X_pred).astype(int)\n",
    "X_pred = np.clip(X_pred, a_min = 0, a_max = 255)\n",
    "X_pred = X_pred.astype('uint8')\n",
    "print(X_pred.shape , X.shape)"
   ]
  },
  {
   "cell_type": "code",
   "execution_count": 14,
   "metadata": {
    "collapsed": false
   },
   "outputs": [],
   "source": [
    "!mkdir -p data\n",
    "!mkdir -p montage"
   ]
  },
  {
   "cell_type": "code",
   "execution_count": 15,
   "metadata": {
    "collapsed": false
   },
   "outputs": [
    {
     "name": "stdout",
     "output_type": "stream",
     "text": [
      "2\n"
     ]
    },
    {
     "data": {
      "image/png": "[encoded data removed]",
      "text/plain": [
       "<IPython.core.display.Image object>"
      ]
     },
     "execution_count": 15,
     "metadata": {},
     "output_type": "execute_result"
    }
   ],
   "source": [
    "###  show random inputs / outputs side by side\n",
    "\n",
    "def get_picture_array(X, rescale=4):\n",
    "    array = X.reshape(28,28)\n",
    "    array = np.clip(array, a_min = 0, a_max = 255)\n",
    "    return  array.repeat(rescale, axis = 0).repeat(rescale, axis = 1).astype(np.uint8())\n",
    "\n",
    "def compare_images(index):\n",
    "    print(index)\n",
    "    original_image = Image.fromarray(get_picture_array(255 * X[index]))\n",
    "    new_size = (original_image.size[0] * 2, original_image.size[1])\n",
    "    new_im = Image.new('L', new_size)\n",
    "    new_im.paste(original_image, (0,0))\n",
    "    rec_image = Image.fromarray(get_picture_array(X_pred[index]))\n",
    "    new_im.paste(rec_image, (original_image.size[0],0))\n",
    "    new_im.save('data/test.png', format=\"PNG\")\n",
    "    return IPImage('data/test.png')\n",
    "\n",
    "compare_images(2)\n",
    "# compare_images(np.random.randint(50000))"
   ]
  },
  {
   "cell_type": "code",
   "execution_count": 16,
   "metadata": {
    "collapsed": false
   },
   "outputs": [],
   "source": [
    "## we find the encode layer from our ae, and use it to define an encoding function\n",
    "\n",
    "def get_layer_by_name(net, name):\n",
    "    for i, layer in enumerate(net.get_all_layers()):\n",
    "        if layer.name == name:\n",
    "            return layer, i\n",
    "    return None, None\n",
    "encode_layer, encode_layer_index = get_layer_by_name(ae, 'encode')\n",
    "\n",
    "def encode_input(encode_layer, X):\n",
    "    return get_output(encode_layer, inputs=X) #.eval() # Cause wrong type error\n",
    "\n",
    "#X_encoded = encode_input(encode_layer, X)\n",
    "input_layer, input_layer_index = get_layer_by_name(ae, 'input0')\n",
    "f = theano.function([input_layer.input_var], get_output(encode_layer))\n",
    "X_encoded = f(X[0:10000])"
   ]
  },
  {
   "cell_type": "code",
   "execution_count": 17,
   "metadata": {
    "collapsed": false
   },
   "outputs": [],
   "source": [
    "next_layer = ae.get_all_layers()[encode_layer_index + 1]\n",
    "final_layer = ae.get_all_layers()[-1]\n",
    "new_layer = InputLayer(shape=(None, encode_layer.num_units))\n",
    "\n",
    "# N.B after we do this, we won't be able to use the original autoencoder , as the layers are broken up\n",
    "next_layer.input_layer = new_layer"
   ]
  },
  {
   "cell_type": "code",
   "execution_count": 18,
   "metadata": {
    "collapsed": false
   },
   "outputs": [
    {
     "name": "stdout",
     "output_type": "stream",
     "text": [
      "[  1 784]\n"
     ]
    },
    {
     "data": {
      "image/png": "[encoded data removed]",
      "text/plain": [
       "<IPython.core.display.Image object>"
      ]
     },
     "execution_count": 18,
     "metadata": {},
     "output_type": "execute_result"
    }
   ],
   "source": [
    "def get_output_from_nn(last_layer, X):\n",
    "    return get_output(last_layer,X) #.eval() # Cause wrong type error\n",
    "\n",
    "def decode_encoded_input(X):\n",
    "    return get_output_from_nn(final_layer, X)\n",
    "\n",
    "X_decoded = 256 * decode_encoded_input(X_encoded[2])\n",
    "\n",
    "X_decoded = X_decoded.eval()\n",
    "X_decoded = theano.tensor.iround(X_decoded)\n",
    "X_decoded = theano.tensor.clip(X_decoded, 0, 255)\n",
    "X_decoded  = X_decoded.astype('uint8')\n",
    "print(X_decoded.shape.eval())\n",
    "\n",
    "pic_array = get_picture_array(X_decoded.eval())\n",
    "image = Image.fromarray(pic_array)\n",
    "image.save('data/test.png', format=\"PNG\")  \n",
    "IPImage('data/test.png')"
   ]
  },
  {
   "cell_type": "code",
   "execution_count": 19,
   "metadata": {
    "collapsed": false
   },
   "outputs": [],
   "source": [
    "enc_std = X_encoded.std(axis=0)\n",
    "enc_mean = X_encoded.mean(axis=0)\n",
    "enc_min = X_encoded.min(axis=0)\n",
    "enc_max = X_encoded.max(axis=0)\n",
    "m = X_encoded.shape[1]"
   ]
  },
  {
   "cell_type": "code",
   "execution_count": 20,
   "metadata": {
    "collapsed": false
   },
   "outputs": [],
   "source": [
    "n = 256\n",
    "generated = np.random.normal(0, 1, (n, m)) * enc_std + enc_mean\n",
    "generated = generated.astype(np.float32).clip(enc_min, enc_max)\n",
    "X_decoded = decode_encoded_input(generated) * 256.\n",
    "X_decoded = theano.tensor.iround(X_decoded )\n",
    "X_decoded = theano.tensor.clip(X_decoded, 0, 255)\n",
    "X_decoded  = X_decoded.astype('uint8')\n",
    "!mkdir -p montage\n",
    "for i in range(n):\n",
    "    pic_array = get_picture_array(X_decoded[i].eval(), rescale=1)\n",
    "    image = Image.fromarray(pic_array)\n",
    "    image.save('montage/{0:03d}.png'.format(i), format='png')"
   ]
  },
  {
   "cell_type": "code",
   "execution_count": 21,
   "metadata": {
    "collapsed": false
   },
   "outputs": [
    {
     "data": {
      "image/png": "[encoded data removed]",
      "text/plain": [
       "<IPython.core.display.Image object>"
      ]
     },
     "execution_count": 21,
     "metadata": {},
     "output_type": "execute_result"
    }
   ],
   "source": [
    "!montage -mode concatenate -tile 16x montage/*.png montage.png\n",
    "IPImage('montage.png')"
   ]
  },
  {
   "cell_type": "code",
   "execution_count": null,
   "metadata": {
    "collapsed": true
   },
   "outputs": [],
   "source": []
  }
 ],
 "metadata": {
  "kernelspec": {
   "display_name": "Python 3",
   "language": "python",
   "name": "python3"
  },
  "language_info": {
   "codemirror_mode": {
    "name": "ipython",
    "version": 3
   },
   "file_extension": ".py",
   "mimetype": "text/x-python",
   "name": "python",
   "nbconvert_exporter": "python",
   "pygments_lexer": "ipython3",
   "version": "3.5.1"
  }
 },
 "nbformat": 4,
 "nbformat_minor": 0
}
